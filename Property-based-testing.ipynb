{
 "cells": [
  {
   "cell_type": "markdown",
   "metadata": {},
   "source": [
    "# Property based testing and data integrity testing\n",
    "\n",
    "## Property based testing with Hypothesis\n",
    "\n",
    "So far all the tests we have written/write are done at a basic level in which you take 1 test and write test cases for which ti should pass or fail.  But what about edge cases? How do you know when you have actually found a bug and not an edge case for your model/algorithm or else?\n",
    "\n",
    "The [Hypothesis package](https://hypothesis.readthedocs.org/en/latest/) is very useful in these situtations as it performs property based testing. So instead of taking let's say 1 or 2 test cases for a single function hypothesis tests a whole range of parameters for each test case. \n",
    "\n",
    "Not clear? Ok imagine we do not know about the existence of the `modullo` operator so we have instead writen a function that tests divisibility by 11 based on the following property: \n",
    "> A number is divisible by 11 if and only if the alternating (in sign) sum of the number’s digits is 0\n",
    "\n",
    "Let's create a `main.py` script with our function:"
   ]
  },
  {
   "cell_type": "code",
   "execution_count": 1,
   "metadata": {},
   "outputs": [],
   "source": [
    "def divisible_by_11(number):\n",
    "    \"\"\"Uses above criterion to check if number is divisible by 11\"\"\"\n",
    "    string_number = str(number)\n",
    "    alternating_sum = sum([(-1) ** i * int(d) for i, d\n",
    "                           in enumerate(string_number)])\n",
    "    return alternating_sum == 0"
   ]
  },
  {
   "cell_type": "markdown",
   "metadata": {},
   "source": [
    "And we can demonstrate that this works by running some examples"
   ]
  },
  {
   "cell_type": "code",
   "execution_count": null,
   "metadata": {},
   "outputs": [],
   "source": [
    "for k in range(10):\n",
    "    print(divisible_by_11(11 * k))"
   ]
  },
  {
   "cell_type": "markdown",
   "metadata": {},
   "source": [
    "Now let's write a test case for the above example! And we are going to save this in `test_main.py`"
   ]
  },
  {
   "cell_type": "code",
   "execution_count": 21,
   "metadata": {},
   "outputs": [],
   "source": [
    "import pytest\n",
    "\n",
    "\n",
    "def test_divisible_by_11():\n",
    "    for k in range(10):\n",
    "        assert divisible_by_11(11*k)\n",
    "        assert divisible_by_11(121)\n",
    "        assert divisible_by_11(12122)"
   ]
  },
  {
   "cell_type": "code",
   "execution_count": 11,
   "metadata": {},
   "outputs": [],
   "source": [
    "test_divisible_by_11()"
   ]
  },
  {
   "cell_type": "markdown",
   "metadata": {},
   "source": [
    "The tests passed so no errors were raised at all. The above tests the first 10 numbers divisible by 11 and also some specific tests (121 and 12122).\n",
    "\n",
    "\n",
    "At this point we could be very happy and proud of ourselves: we have tested well written software that can be shipped and used by researchers world wide to test the divisibility of a number by 11!!!\n",
    "\n",
    "![](assets/not.png)\n",
    "\n",
    "That is how mathematics breaks... so let's use hypothesis to demonstrate. Let's create a `test_property_main.py` script:"
   ]
  },
  {
   "cell_type": "code",
   "execution_count": 22,
   "metadata": {},
   "outputs": [],
   "source": [
    "from hypothesis import given  # define the inputs\n",
    "import hypothesis.strategies as st\n",
    "\n",
    "@given(k=st.integers(min_value=1)) # main decorator\n",
    "def test_divisible_by_11(k):\n",
    "    assert divisible_by_11(11*k)"
   ]
  },
  {
   "cell_type": "markdown",
   "metadata": {},
   "source": [
    "And we can run the test:\n",
    "```\n",
    "$  python -m pytest test_main.py\n",
    "============================= test session starts ================\n",
    "=============\n",
    "platform win32 -- Python 3.6.5, pytest-3.5.1, py-1.5.3, pluggy-0.6\n",
    ".0\n",
    "plugins: nbval-0.9.0, hypothesis-3.58.1\n",
    "collecting 0 items\n",
    "collecting 1 item\n",
    "collected 1 item\n",
    "\n",
    "\n",
    "test_property_main.py F\n",
    "       [100%]\n",
    "\n",
    "================================== FAILURES ======================\n",
    "=============\n",
    "____________________________ test_divisible_by_11 ________________\n",
    "_____________\n",
    "\n",
    "    @given(k=st.integers(min_value=1)) # main decorator\n",
    ">   def test_divisible_by_11(k):\n",
    "\n",
    "test_main.py:8:\n",
    "_ _ _ _ _ _ _ _ _ _ _ _ _ _ _ _ _ _ _ _ _ _ _ _ _ _ _ _ _ _ _ _ _\n",
    "_ _ _ _ _ _ _\n",
    "C:\\Users\\Tania\\Anaconda3\\envs\\reproPython\\lib\\site-packages\\hypoth\n",
    "esis\\core.py:584: in execute\n",
    "    result = self.test_runner(data, run)\n",
    "C:\\Users\\Tania\\Anaconda3\\envs\\reproPython\\lib\\site-packages\\hypoth\n",
    "esis\\executors.py:58: in default_new_style_executor\n",
    "    return function(data)\n",
    "C:\\Users\\Tania\\Anaconda3\\envs\\reproPython\\lib\\site-packages\\hypoth\n",
    "esis\\core.py:576: in run\n",
    "    return test(*args, **kwargs)\n",
    "test_main.py:8: in test_divisible_by_11\n",
    "    def test_divisible_by_11(k):\n",
    "C:\\Users\\Tania\\Anaconda3\\envs\\reproPython\\lib\\site-packages\\hypoth\n",
    "esis\\core.py:524: in test\n",
    "    result = self.test(*args, **kwargs)\n",
    "_ _ _ _ _ _ _ _ _ _ _ _ _ _ _ _ _ _ _ _ _ _ _ _ _ _ _ _ _ _ _ _ _\n",
    "_ _ _ _ _ _ _\n",
    "\n",
    "k = 28\n",
    "\n",
    "    @given(k=st.integers(min_value=1)) # main decorator\n",
    "    def test_divisible_by_11(k):\n",
    ">       assert main.divisible_by_11(11*k)\n",
    "E       assert False\n",
    "E        +  where False = <function divisible_by_11 at 0x0000014FE\n",
    "5CA4D90>((11 * 28))\n",
    "E        +    where <function divisible_by_11 at 0x0000014FE5CA4D9\n",
    "0> = main.divisible_by_11\n",
    "\n",
    "test_main.py:9: AssertionError\n",
    "--------------------------------- Hypothesis ---------------------\n",
    "-------------\n",
    "Falsifying example: test_divisible_by_11(k=28)\n",
    "========================== 1 failed in 0.60 seconds ==============\n",
    "=============\n",
    "\n",
    "\n",
    "```\n",
    "We get an error! An right at the top we get the `Falsifying example` so we see that our function fails for `k=28`.  The number resultign from $11x28$ is not divisible by 11 by construction. \n",
    "\n",
    "At this point we can think of the following correct definition for a number to be divisuble by 11:\n",
    "\n",
    "> A number is divisible by 11 if and only if the alternating (in sign) sum of the number’s digits is divisible by 11.\n",
    "\n",
    "So we can now modify `main.py` :"
   ]
  },
  {
   "cell_type": "code",
   "execution_count": 23,
   "metadata": {},
   "outputs": [],
   "source": [
    "def divisible_by_11(number):\n",
    "    \"\"\"Uses above criterion to check if number is divisible by 11\"\"\"\n",
    "    string_number = str(number)\n",
    "    # Using abs as the order of the alternating sum doesn't matter.\n",
    "    alternating_sum = abs(sum([(-1) ** i * int(d) for i, d\n",
    "                               in enumerate(string_number)]))\n",
    "    # Recursively calling the function\n",
    "    return (alternating_sum in [0, 11]) or divisible_by_11(alternating_sum)"
   ]
  },
  {
   "cell_type": "markdown",
   "metadata": {},
   "source": [
    "Running the tests:\n",
    "\n",
    "```\n",
    "$ python -m pytest test_property_main\n",
    ".\n",
    "----------------------------------------------------------------------\n",
    "Ran 1 test in 0.043s\n",
    "\n",
    "OK\n",
    "```"
   ]
  },
  {
   "cell_type": "code",
   "execution_count": 4,
   "metadata": {},
   "outputs": [
    {
     "data": {
      "text/html": [
       "<link href=\"https://fonts.googleapis.com/css?family=Didact+Gothic|Dosis:400,500,700\" rel=\"stylesheet\"><style>\n",
       "@font-face {\n",
       "  font-family: \"Computer Modern\";\n",
       "  src: url('http://mirrors.ctan.org/fonts/cm-unicode/fonts/otf/cmunss.otf');\n",
       "}\n",
       "/* div.cell{\n",
       "width:800px;\n",
       "margin-left:16% !important;\n",
       "margin-right:auto;\n",
       "} */\n",
       "h1 {\n",
       "  font-family: 'Dosis', \"Helvetica Neue\", Arial, sans-serif;\n",
       "  color: #0B132B;\n",
       "}\n",
       "h2 {\n",
       "  font-family: 'Dosis', sans-serif;\n",
       "  color: #1C2541;\n",
       "}\n",
       "h3{\n",
       "  font-family: 'Dosis', sans-serif;\n",
       "  margin-top:12px;\n",
       "  margin-bottom: 3px;\n",
       "  color: #40a8a6;\n",
       "}\n",
       "h4{\n",
       "  font-family: 'Dosis', sans-serif;\n",
       "  color: #40a8a6;\n",
       "}\n",
       "h5 {\n",
       "  font-family: 'Dosis', sans-serif;\n",
       "  color: #40a8a6;\n",
       "}\n",
       "div.text_cell_render{\n",
       "  font-family: 'Didact Gothic',Computer Modern, \"Helvetica Neue\", Arial, Helvetica,\n",
       "  Geneva, sans-serif;\n",
       "  line-height: 130%;\n",
       "  font-size: 110%;\n",
       "  /* width:600px; */\n",
       "  /* margin-left:auto;\n",
       "  margin-right:auto; */\n",
       "}\n",
       "\n",
       ".text_cell_render h1 {\n",
       "  font-weight: 200;\n",
       "  font-size: 30pt;\n",
       "  /* font-size: 50pt */\n",
       "  line-height: 100%;\n",
       "  color:#0B132B;\n",
       "  margin-bottom: 0.5em;\n",
       "  margin-top: 0.5em;\n",
       "  display: block;\n",
       "}\n",
       "\n",
       ".text_cell_render h2{\n",
       "  font-weight: 500;\n",
       "}\n",
       "\n",
       ".text_cell_render h3{\n",
       "  font-weight: 500;\n",
       "}\n",
       "\n",
       "\n",
       ".warning{\n",
       "  color: rgb( 240, 20, 20 )\n",
       "}\n",
       "\n",
       "div.warn {\n",
       "  background-color: #FF5A5F;\n",
       "  border-color: #FF5A5F;\n",
       "  border-left: 5px solid #C81D25;\n",
       "  padding: 0.5em;\n",
       "\n",
       "  color: #fff;\n",
       "  opacity: 0.8;\n",
       "}\n",
       "\n",
       "div.info {\n",
       "  background-color: #087E8B;\n",
       "  border-color: #087E8B;\n",
       "  border-left: 5px solid #0B3954;\n",
       "  padding: 0.5em;\n",
       "  color: #fff;\n",
       "  opacity: 0.8;\n",
       "}\n",
       "\n",
       "</style>\n",
       "<script>\n",
       "MathJax.Hub.Config({\n",
       "  TeX: {\n",
       "    extensions: [\"AMSmath.js\"]\n",
       "    },\n",
       "    tex2jax: {\n",
       "      inlineMath: [ ['$','$'], [\"\\\\(\",\"\\\\)\"] ],\n",
       "      displayMath: [ ['$$','$$'], [\"\\\\[\",\"\\\\]\"] ]\n",
       "      },\n",
       "      displayAlign: 'center', // Change this to 'center' to center equations.\n",
       "      \"HTML-CSS\": {\n",
       "        styles: {'.MathJax_Display': {\"margin\": 4}}\n",
       "      }\n",
       "      });\n",
       "      </script>\n"
      ],
      "text/plain": [
       "<IPython.core.display.HTML object>"
      ]
     },
     "execution_count": 4,
     "metadata": {},
     "output_type": "execute_result"
    }
   ],
   "source": [
    "from IPython.core.display import HTML\n",
    "\n",
    "\n",
    "def css_styling():\n",
    "    styles = open(\"styles/custom.css\", \"r\").read()\n",
    "    return HTML(styles)\n",
    "css_styling()"
   ]
  }
 ],
 "metadata": {
  "kernelspec": {
   "display_name": "Python [default]",
   "language": "python",
   "name": "python3"
  },
  "language_info": {
   "codemirror_mode": {
    "name": "ipython",
    "version": 3
   },
   "file_extension": ".py",
   "mimetype": "text/x-python",
   "name": "python",
   "nbconvert_exporter": "python",
   "pygments_lexer": "ipython3",
   "version": "3.6.5"
  }
 },
 "nbformat": 4,
 "nbformat_minor": 2
}
