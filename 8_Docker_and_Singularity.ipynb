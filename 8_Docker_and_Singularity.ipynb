{
 "cells": [
  {
   "cell_type": "markdown",
   "metadata": {},
   "source": [
    "# 8. Containers"
   ]
  },
  {
   "cell_type": "markdown",
   "metadata": {},
   "source": [
    "### What are the goals of containers?\n",
    "\n",
    "- Isolate full computing environments (not only Python packages)\n",
    "- Provide a mechanism to encapsulate environments in a self-contained unit that can run anywhere"
   ]
  },
  {
   "cell_type": "markdown",
   "metadata": {},
   "source": [
    "### Why do we need containers?\n",
    "- Science Reproducibility \n",
    "- Collaboration with your colleagues\n",
    "- Installing new software without fear of breaking you environment."
   ]
  },
  {
   "cell_type": "markdown",
   "metadata": {},
   "source": [
    "### Difference between Virtual Machines and Containers\n",
    "The main idea is the same &ndash; isolate the computing environment, but they differ.\n",
    "\n",
    "- Virtual Machine:\n",
    "    - emulate whole computer system (software+hardware)\n",
    "    - run on top of a physical machine using a hypervisor\n",
    "    - hypervisor shares and manages hardware of the host and executes the guest operating system\n",
    "    - guest machines are completely isolated and have dedicated resources\n",
    "\n",
    "<img src=\"assets/VM.png\" alt=\"metadata\" width='300px'>\n",
    "\n",
    "- Containers (Docker)\n",
    "    - share the host system’s kernel with other containers\n",
    "    - each container gets its own isolated user space\n",
    "    - only bins and libs are created from scratch\n",
    "    - **containers are very lightweight and fast to start up**\n",
    "    \n",
    "<img src=\"assets/Container.png\" alt=\"metadata\" width='300px'>\n",
    "\n",
    "You can find more on:\n",
    " - [Docker website](https://www.docker.com/what-container)\n",
    " - [Beginner friendly intro to VMs and Docker](https://medium.freecodecamp.org/a-beginner-friendly-introduction-to-containers-vms-and-docker-79a9e3e119b)\n"
   ]
  },
  {
   "cell_type": "markdown",
   "metadata": {},
   "source": [
    "# [Docker](docker.com)\n",
    "- leading software container platform\n",
    "- an open-source project\n",
    "- it runs now on Mac OS X and Windows (Pro versions) without VM"
   ]
  },
  {
   "cell_type": "markdown",
   "metadata": {},
   "source": [
    "### Using Docker\n",
    "- you can use existing Docker images, many public images can be found on [Docker Hub](https://hub.docker.com/)\n",
    "    - example of running existing images can be found [here](http://nipy.org/workshops/2017-03-boston/lectures/lesson-container/#29)\n",
    "- you can create your own images by writing `Dockerfile`\n",
    "    - the simplest examples you can find [here](http://nipy.org/workshops/2017-03-boston/lectures/lesson-container/#31)\n",
    "    - [Dockerfile official reference](https://docs.docker.com/engine/reference/builder/#from)\n",
    "    - there are also tools that helps you generate Dockerfile, e.g. [Neurodocker](https://github.com/kaczmarj/neurodocker)"
   ]
  },
  {
   "cell_type": "markdown",
   "metadata": {},
   "source": [
    "### Docker and Singularity\n",
    "- Docker:\n",
    "    - docker can escalate privileges, so you can be effectively treated as a root on the host system\n",
    "    - this is usually not supported by administrators from HPC centers\n",
    "- [Singularity](http://singularity.lbl.gov/):\n",
    "    - a container solution created for scientific and application driven workloads\n",
    "    - supports existing and traditional HPC resources\n",
    "    - a user inside a Singularity container is the same user as outside the container\n",
    "    - but you can use Vagrant to create a container (you have root privileges on your VM!)\n",
    "    - can run (and modify!) existing Docker containers\n",
    "    - running VM is required on OSX and Windows"
   ]
  },
  {
   "cell_type": "markdown",
   "metadata": {},
   "source": [
    "## Docker for the Reproducible Python"
   ]
  },
  {
   "cell_type": "markdown",
   "metadata": {},
   "source": [
    "If you want to try using Docker, there are loads of prebuilt Docker images that could be used for this tutorial. Below you can see the Neurodocker command that was used to create a Dockerfile.                                                                                                    \n",
    "```\n",
    "docker run --rm kaczmarj/neurodocker:master generate docker \\\n",
    "  --base neurodebian:stretch-non-free \\\n",
    "  --pkg-manager apt \\\n",
    "  --install git git-annex-standalone git-annex-remote-rclone vim emacs-nox nano \\\n",
    "  --user=repropython \\\n",
    "  --miniconda \\\n",
    "    env_name=\"repropython\" \\\n",
    "    conda_install=\"python=3.6 pytest jupyter jupyterlab cookiecutter numpy                                         \n",
    "                   pandas matplotlib\" \\\n",
    "    pip_install=\"nbval nbdime recipy jupyter-repo2docker datalad\" \\\n",
    "    activate=true \\\n",
    "  --run 'mkdir -p ~/.jupyter && echo c.NotebookApp.ip = \\\"0.0.0.0\\\" > ~/.jupyter/jupyter_notebook_config.py' \\\n",
    "  --user=root \\\n",
    "  --run 'mkdir /ReproduciblePython && chmod 777 /ReproduciblePython && chmod a+s /ReproduciblePython' \\\n",
    "  --run 'rm -rf /opt/miniconda-latest/pkgs/*' \\\n",
    "  --user=repropython \\\n",
    "  --workdir /home/repropython \\\n",
    "  --cmd jupyter-lab > Dockerfile\n",
    " ```\n"
   ]
  },
  {
   "cell_type": "markdown",
   "metadata": {},
   "source": [
    "You can create Dockerfiles and Docker images using the `docker` command, but you can also download the ready to use image from DockerHub by typing in your terminal:\n",
    "```\n",
    "docker pull djarecka/repropython\n",
    "```"
   ]
  },
  {
   "cell_type": "markdown",
   "metadata": {},
   "source": [
    "In order to run the container you can type in your terminal:\n",
    "```\n",
    "docker run -it --rm -p 8888:8888 djarecka/repropython\n",
    "```\n",
    "- `-it` flag tells docker that it should open an interactive container instance.\n",
    "- `--rm` flag tells docker that the container should automatically be removed after we close docker.\n",
    "- `-p` flag specifies which port we want to make available for docker.\n",
    "\n",
    "`jupyter-lab` is set as the default command, so this command will start `jupyter-lab` automatically. The URL (that looks like `http://localhost:8888/?token=0312c1ef3b61d7a44ff5346d3d150c23249a548850e13868`) should be paste to your browser.\n",
    "\n",
    "You can also open the container with `bash` by typing:\n",
    "```\n",
    "docker run -it --rm -p 8888:8888 djarecka/repropython bash\n",
    "```\n"
   ]
  },
  {
   "cell_type": "markdown",
   "metadata": {},
   "source": [
    "### Opening the notebooks from the tutorial\n",
    "\n",
    "You might notice that after you open `jupyter-lab` you don't have any notebooks, because the content of the tutorial was not copied to the container. However you can always mount the directory with your current local version of notebooks by adding `-v` flag:\n",
    "```\n",
    "docker run -it --rm -v /path/to/your/local/directory/ReproduciblePython:/home/repropython/ReproduciblePython  -p 8888:8888 djarecka/repropython\n",
    "```"
   ]
  },
  {
   "cell_type": "markdown",
   "metadata": {},
   "source": [
    "## Creating Docker containers using repo2docker\n",
    "\n",
    "The package [repo2docker](http://repo2docker.readthedocs.io/en/latest/usage.html#running-repo2docker-locally) allows you to generate a Docker container from a repository (e.g. GitHub). \n",
    "\n",
    "To get started you need to make sure you have any of the following files:\n",
    "- Dockerfile\n",
    "- environment.yml\n",
    "- requirements.yml\n",
    "- REQUIRE (Julia packages, plus it needs an environment.yml as well)\n",
    "- postBuild\n"
   ]
  },
  {
   "cell_type": "markdown",
   "metadata": {},
   "source": [
    "If you followed along the course you should now have a conda environment file `environment.yml`:\n",
    "\n",
    "```yaml\n",
    "name: testenv\n",
    "channels:\n",
    "  - conda-forge\n",
    "  - defaults\n",
    "dependencies:\n",
    "  - python>3.6\n",
    "  - pytest\n",
    "  - pandas\n",
    "  - matplotlib\n",
    "  - pip:\n",
    "    - nbval\n",
    "```\n"
   ]
  },
  {
   "cell_type": "markdown",
   "metadata": {},
   "source": [
    "### Getting Dockerized\n",
    "\n",
    "<div class = 'info'> You need to have Docker working in your computer before proceeding </div>\n",
    "\n",
    "`repo2docker` follows the next two steps:\n",
    "1. Builds a Docker image from a git repo\n",
    "2. Runs a Jupyter server within the image (so you can explore the repository's content)\n",
    "\n",
    "From your command line type:\n",
    "```bash\n",
    "$ jupyter-repo2docker <url to the repository>\n",
    "```\n",
    "\n",
    "The process might take a while, and once completed you should see message like this in your terminal\n",
    "```bash\n",
    "Copy/paste this URL into your browser when you connect for the first time,\n",
    "to login with a token:\n",
    "    http://0.0.0.0:36511/?token=f94f8fabb92e22f5bfab116c382b4707fc2cade56ad1ace0\n",
    "```"
   ]
  }
 ],
 "metadata": {
  "kernelspec": {
   "display_name": "Python 3",
   "language": "python",
   "name": "python3"
  },
  "language_info": {
   "codemirror_mode": {
    "name": "ipython",
    "version": 3
   },
   "file_extension": ".py",
   "mimetype": "text/x-python",
   "name": "python",
   "nbconvert_exporter": "python",
   "pygments_lexer": "ipython3",
   "version": "3.7.1"
  }
 },
 "nbformat": 4,
 "nbformat_minor": 2
}
