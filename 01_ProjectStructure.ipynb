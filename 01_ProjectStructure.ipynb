{
 "cells": [
  {
   "cell_type": "markdown",
   "metadata": {},
   "source": [
    "# 1. Project structure\n",
    "Good project layout ensures: \n",
    "<ul>\n",
    "    <li>Integrity of the data</li>\n",
    "    <li>Portability of the project</li>\n",
    "    <li>Ease to pick the project back up after a break or change in personnel</li>\n",
    "</ul> \n",
    "<br><br>There is no single way to organise a project.... but we need to take advantage some conventions.\n",
    "         \n",
    "\n",
    "<hr>\n",
    "                                                    \n",
    "The image below gives a suggested structure for a project. You will notice that it is quite opinionated when it comes to the use of certain files and names.\n",
    "\n",
    "![](./assets/filesystem.PNG)\n",
    "\n",
    "\n",
    "We are going to create the project structure in your computer. \n",
    "You can do this manually, from the shell or use whatever method you prefer. But we want to use a standard approach for this.\n",
    "\n",
    "We're going to be using a Python library called<a href=\"https://github.com/mkrapp/cookiecutter-reproducible-science\">\n",
    "Cookie cutter</a> to create our base filesystem and some support\n",
    "documents. \n",
    "\n",
    "<hr>\n",
    "\n",
    "**Runnning locally**\n",
    "\n",
    "\n",
    "Using our command line we will first create and then activate our conda environment.\n",
    "\n",
    "``` bash\n",
    "$ conda create -n reproPython python=3.7\n",
    "$ source activate reproPython\n",
    "```\n",
    " \n",
    "\n",
    "Now we can create the project structure, again from the shell:\n",
    "```bash\n",
    "$ cookiecutter gh:mkrapp/cookiecutter-reproducible-science\n",
    "```"
   ]
  },
  {
   "cell_type": "markdown",
   "metadata": {},
   "source": [
    "# Version control from the begining\n",
    "\n",
    "We want to make sure everything is version control from the very beginning. This will ensure that there is minimal impact to your workflow. Plus it is easier to do it from the beginning.\n",
    "\n",
    "From the shell:\n",
    "```bash\n",
    "$ cd reproProject  # go to the newly created project\n",
    "$ git init         # initialize a repository here\n",
    "$ git status       # check the status (new/modified files)\n",
    " ```\n",
    " \n",
    "<div class='warn'> Note that cookiecutter by default assigns a BSD (Berkley Software Distribution) license.</div>\n",
    "\n",
    "Since we are happy with this license for now we are going to move onto saving the changes and doing our first commit.\n",
    "\n",
    "```bash\n",
    "$ git add .         # Adding all the changes made\n",
    "$ git commit -m 'Create initial structure'  # Commit and comment\n",
    "``` \n",
    "---\n",
    "⭐ Remember a commit is like a snapshot of your project at a specific time. It gives you loads of information about the author, time and date of the commit and even allows you to identify very specific versions of your materials. \n",
    "\n",
    "Try and type `git log` in your shell and see what kind of information you get\n",
    "\n",
    "🔥 If at any point you need to know if you are in a repository type `git status` in your shell\n",
    "\n",
    "---\n",
    "\n",
    "Also, by default git does not allow you to commit empty directories. So how did all our empty directories get saved?\n",
    "\n",
    "If you have a look at the directories you will see a `.gitkeep` file present in each of them. That ensures that the directories are tracked by git. "
   ]
  },
  {
   "cell_type": "code",
   "execution_count": null,
   "metadata": {},
   "outputs": [],
   "source": []
  }
 ],
 "metadata": {
  "kernelspec": {
   "display_name": "Python 3",
   "language": "python",
   "name": "python3"
  },
  "language_info": {
   "codemirror_mode": {
    "name": "ipython",
    "version": 3
   },
   "file_extension": ".py",
   "mimetype": "text/x-python",
   "name": "python",
   "nbconvert_exporter": "python",
   "pygments_lexer": "ipython3",
   "version": "3.7.1"
  },
  "varInspector": {
   "cols": {
    "lenName": 16,
    "lenType": 16,
    "lenVar": 40
   },
   "kernels_config": {
    "python": {
     "delete_cmd_postfix": "",
     "delete_cmd_prefix": "del ",
     "library": "var_list.py",
     "varRefreshCmd": "print(var_dic_list())"
    },
    "r": {
     "delete_cmd_postfix": ") ",
     "delete_cmd_prefix": "rm(",
     "library": "var_list.r",
     "varRefreshCmd": "cat(var_dic_list()) "
    }
   },
   "types_to_exclude": [
    "module",
    "function",
    "builtin_function_or_method",
    "instance",
    "_Feature"
   ],
   "window_display": false
  }
 },
 "nbformat": 4,
 "nbformat_minor": 2
}
