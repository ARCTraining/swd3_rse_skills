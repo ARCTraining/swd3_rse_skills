{
 "cells": [
  {
   "cell_type": "markdown",
   "metadata": {},
   "source": [
    "# Project structure\n",
    "Good project layout ensures: \n",
    "<ul>\n",
    "    <li>Integrity of the data</li>\n",
    "    <li>Portability of the project</li>\n",
    "    <li>Ease to pick the project back up after a break or change in personnel</li>\n",
    "</ul> \n",
    "<br><br>There is no single way to organise a project.... but we need to take advantage of the power of convention.\n",
    "\n",
    "<div class=\"info\">\"A place for everything, everything in its place\"<p class='caption_p'>- Benjamin Franklin</p></div></div>          \n",
    "\n",
    "<hr>\n",
    "                                                    \n",
    "The image below gives a suggested structure for a project. You will notice that it is quite opinionated when it comes to the \n",
    "use of certain files and names.\n",
    "\n",
    "![](./assets/filesystem.PNG)\n",
    "\n",
    "\n",
    "We are going to create the project structure in your computer. \n",
    "You can do this manually, from the shell or use whatever method you prefer. But we want an opinionated approach for this.\n",
    "\n",
    "<a href=\"https://github.com/mkrapp/cookiecutter-reproducible-science\">\n",
    "Cookie cutter</a> to create our base filesystem and some support\n",
    "documents. \n",
    "\n",
    "\n",
    "<div class=\"warn\">Notice that some people will be running this from their local computers and others from a cloud served JupyterHub</div></div>    \n",
    "\n",
    "<hr>\n",
    "\n",
    "**If runnning locally**\n",
    "\n",
    "\n",
    "Using our command line we will first activate our conda environment.\n",
    "\n",
    "``` bash\n",
    "$ source activate reproPython\n",
    "```\n",
    " \n",
    "You will notice that your terminal displays the activated conda environment:\n",
    "![terminal](assets/terminal_source.png)\n",
    "\n",
    "Now we can create the project structure, again from the shell:\n",
    "```bash\n",
    "$ cookiecutter gh:mkrapp/cookiecutter-reproducible-science\n",
    "```"
   ]
  },
  {
   "cell_type": "markdown",
   "metadata": {},
   "source": [
    "# Version control from the begining\n",
    "\n",
    "We want to make sure everything is version control from the very beginning. This will ensure that there is minimal impact to your workflow. Plus it is easier to do it from the beginning.\n",
    "\n",
    "From the shell:\n",
    "```bash\n",
    "$ cd reproProject  # go to the newly created project\n",
    "$ git init         # initialize a repository here\n",
    "$ git status       # check the status (new/modified files)\n",
    " ```\n",
    " \n",
    "<div class='warn'> Note that cookiecutter by default assigns a [BSD](https://opensource.org/licenses/BSD-3-Clause) (Berkley Software Distribution) license.</div>\n",
    "\n",
    "Since we are happy with this license for now we are going to move onto saving the changes and doing our first commit.\n",
    "\n",
    "```bash\n",
    "$ git add .         # Adding all the changes made\n",
    "$ git commit -m 'Create initial structure'  # Commit and comment\n",
    "``` \n",
    "---\n",
    "⭐ Remember a commit is like a snapshot of your project at a specific time. It gives you loads of information about the author, time and date of the commit and even allows you to identify very specific versions of your materials. \n",
    "\n",
    "Try and type `git log` in your shell and see what kind of information you get\n",
    "\n",
    "🔥 If at any point you need to know if you are in a repository type `git status` in your shell\n",
    "\n",
    "---\n",
    "\n",
    "Also, by default git does not allow you to commit empty directories. So how did all our empty directories get saved?\n",
    "\n",
    "If you have a look at the directories you will see a `.gitkeep` file present in each of them. That ensures that the directories are tracked by git. "
   ]
  },
  {
   "cell_type": "code",
   "execution_count": 1,
   "metadata": {},
   "outputs": [
    {
     "data": {
      "text/html": [
       "<link href=\"https://fonts.googleapis.com/css?family=Didact+Gothic|Dosis:400,500,700\" rel=\"stylesheet\"><style>\n",
       "@font-face {\n",
       "  font-family: \"Computer Modern\";\n",
       "  src: url('http://mirrors.ctan.org/fonts/cm-unicode/fonts/otf/cmunss.otf');\n",
       "}\n",
       "/* div.cell{\n",
       "width:800px;\n",
       "margin-left:16% !important;\n",
       "margin-right:auto;\n",
       "} */\n",
       "h1 {\n",
       "  font-family: 'Dosis', \"Helvetica Neue\", Arial, sans-serif;\n",
       "  color: #0B132B;\n",
       "}\n",
       "h2 {\n",
       "  font-family: 'Dosis', sans-serif;\n",
       "  color: #1C2541;\n",
       "}\n",
       "h3{\n",
       "  font-family: 'Dosis', sans-serif;\n",
       "  margin-top:12px;\n",
       "  margin-bottom: 3px;\n",
       "  color: #40a8a6;\n",
       "}\n",
       "h4{\n",
       "  font-family: 'Dosis', sans-serif;\n",
       "  color: #40a8a6;\n",
       "}\n",
       "h5 {\n",
       "  font-family: 'Dosis', sans-serif;\n",
       "  color: #40a8a6;\n",
       "}\n",
       "div.text_cell_render{\n",
       "  font-family: 'Didact Gothic',Computer Modern, \"Helvetica Neue\", Arial, Helvetica,\n",
       "  Geneva, sans-serif;\n",
       "  line-height: 130%;\n",
       "  font-size: 110%;\n",
       "  /* width:600px; */\n",
       "  /* margin-left:auto;\n",
       "  margin-right:auto; */\n",
       "}\n",
       "\n",
       ".text_cell_render h1 {\n",
       "  font-weight: 200;\n",
       "  font-size: 30pt;\n",
       "  /* font-size: 50pt */\n",
       "  line-height: 100%;\n",
       "  color:#0B132B;\n",
       "  margin-bottom: 0.5em;\n",
       "  margin-top: 0.5em;\n",
       "  display: block;\n",
       "}\n",
       "\n",
       ".text_cell_render h2{\n",
       "  font-weight: 500;\n",
       "}\n",
       "\n",
       ".text_cell_render h3{\n",
       "  font-weight: 500;\n",
       "}\n",
       "\n",
       "\n",
       ".warning{\n",
       "  color: rgb( 240, 20, 20 )\n",
       "}\n",
       "\n",
       "div.warn {\n",
       "  background-color: #FF5A5F;\n",
       "  border-color: #FF5A5F;\n",
       "  border-left: 5px solid #C81D25;\n",
       "  padding: 0.5em;\n",
       "\n",
       "  color: #fff;\n",
       "  opacity: 0.8;\n",
       "}\n",
       "\n",
       "div.info {\n",
       "  background-color: #087E8B;\n",
       "  border-color: #087E8B;\n",
       "  border-left: 5px solid #0B3954;\n",
       "  padding: 0.5em;\n",
       "  color: #fff;\n",
       "  opacity: 0.8;\n",
       "}\n",
       "\n",
       "</style>\n",
       "<script>\n",
       "MathJax.Hub.Config({\n",
       "  TeX: {\n",
       "    extensions: [\"AMSmath.js\"]\n",
       "    },\n",
       "    tex2jax: {\n",
       "      inlineMath: [ ['$','$'], [\"\\\\(\",\"\\\\)\"] ],\n",
       "      displayMath: [ ['$$','$$'], [\"\\\\[\",\"\\\\]\"] ]\n",
       "      },\n",
       "      displayAlign: 'center', // Change this to 'center' to center equations.\n",
       "      \"HTML-CSS\": {\n",
       "        styles: {'.MathJax_Display': {\"margin\": 4}}\n",
       "      }\n",
       "      });\n",
       "      </script>\n"
      ],
      "text/plain": [
       "<IPython.core.display.HTML object>"
      ]
     },
     "execution_count": 1,
     "metadata": {},
     "output_type": "execute_result"
    }
   ],
   "source": [
    "from IPython.core.display import HTML\n",
    "\n",
    "\n",
    "def css_styling():\n",
    "    styles = open(\"styles/custom.css\", \"r\").read()\n",
    "    return HTML(styles)\n",
    "css_styling()"
   ]
  },
  {
   "cell_type": "code",
   "execution_count": 1,
   "metadata": {},
   "outputs": [
    {
     "name": "stdout",
     "output_type": "stream",
     "text": [
      "<generator object <genexpr> at 0x0000019833DAAD00>\n"
     ]
    }
   ],
   "source": [
    "print (i for i in range(6))"
   ]
  },
  {
   "cell_type": "code",
   "execution_count": 2,
   "metadata": {},
   "outputs": [],
   "source": [
    "import matplotlib.pyplot as plt"
   ]
  },
  {
   "cell_type": "code",
   "execution_count": 5,
   "metadata": {},
   "outputs": [
    {
     "data": {
      "text/plain": [
       "[<matplotlib.lines.Line2D at 0x19836140438>]"
      ]
     },
     "execution_count": 5,
     "metadata": {},
     "output_type": "execute_result"
    },
    {
     "data": {
      "image/png": "[encoded data removed]",
      "text/plain": [
       "<Figure size 432x288 with 1 Axes>"
      ]
     },
     "metadata": {},
     "output_type": "display_data"
    }
   ],
   "source": [
    "%matplotlib inline\n",
    "x = range(5)\n",
    "plt.plot(x, x, color='red' )"
   ]
  },
  {
   "cell_type": "code",
   "execution_count": null,
   "metadata": {},
   "outputs": [],
   "source": []
  }
 ],
 "metadata": {
  "kernelspec": {
   "display_name": "Python [default]",
   "language": "python",
   "name": "python3"
  },
  "language_info": {
   "codemirror_mode": {
    "name": "ipython",
    "version": 3
   },
   "file_extension": ".py",
   "mimetype": "text/x-python",
   "name": "python",
   "nbconvert_exporter": "python",
   "pygments_lexer": "ipython3",
   "version": "3.6.6"
  },
  "varInspector": {
   "cols": {
    "lenName": 16,
    "lenType": 16,
    "lenVar": 40
   },
   "kernels_config": {
    "python": {
     "delete_cmd_postfix": "",
     "delete_cmd_prefix": "del ",
     "library": "var_list.py",
     "varRefreshCmd": "print(var_dic_list())"
    },
    "r": {
     "delete_cmd_postfix": ") ",
     "delete_cmd_prefix": "rm(",
     "library": "var_list.r",
     "varRefreshCmd": "cat(var_dic_list()) "
    }
   },
   "types_to_exclude": [
    "module",
    "function",
    "builtin_function_or_method",
    "instance",
    "_Feature"
   ],
   "window_display": false
  }
 },
 "nbformat": 4,
 "nbformat_minor": 2
}
