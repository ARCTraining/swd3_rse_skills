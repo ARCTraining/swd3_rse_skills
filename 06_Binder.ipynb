{
 "cells": [
  {
   "cell_type": "markdown",
   "metadata": {},
   "source": [
    "# 6. Reproducible computing environments with Binder\n",
    "\n",
    "You know will have been able to share your code in GitHub. The code you generated in this workshop are mainly standalone scripts. But what wolud happen if most of them were Jupyter notebooks?\n",
    "\n",
    "Well, the content served in GitHub would be static. How would you run this contennt or someone else's?\n",
    "First you'd need at least the following:\n",
    "- All the pieces of code\n",
    "- The main language of the code (Python, R)\n",
    "- Support packages (e.g. pandas, matplotlib)\n",
    "- Hardware to run the code"
   ]
  },
  {
   "cell_type": "markdown",
   "metadata": {},
   "source": [
    "[Binder](https://mybinder.readthedocs.io/en/latest/) provides all these things, allowing you to create a **live, interactive** version of your code 🤩. \n"
   ]
  },
  {
   "cell_type": "markdown",
   "metadata": {},
   "source": [
    "## Getting started with Binder\n",
    "\n",
    "The first thing you need to do is having a conda environment file in  your repository (`environment.yml`). If you followed along this workshop you should have this done. If not make a new `environment.yml`\n",
    "\n",
    "```yaml\n",
    "name: testenv\n",
    "channels:\n",
    "  - conda-forge\n",
    "  - defaults\n",
    "dependencies:\n",
    "  - python>3.6\n",
    "  - pytest\n",
    "  - pandas\n",
    "  - matplotlib\n",
    "  - pip:\n",
    "    - nbval\n",
    "```\n",
    "Make sure to place it i the root directory of your repository."
   ]
  },
  {
   "cell_type": "markdown",
   "metadata": {},
   "source": [
    "Head to [mybinder.org](https://mybinder.org/) and paste the URL of your repository like so:\n",
    "![binder](assets/binder.PNG)\n",
    "\n",
    "Now that you've got a Binder you can share this with anyone. Or you can add a badge to your repository so people can launch this in binder. \n",
    "\n",
    "Copy the badge text and add this at the top of your README.md\n",
    "\n",
    "![badge](assets/badge.PNG)\n",
    "\n",
    "Note you also need to add any additional resources (e.g. data files needed).\n",
    "\n",
    "Once you are sure that you have all the data and the requirements specified in your `environment.yml` file click on launch.\n",
    "\n",
    "Again, this might take a while so relax and have a cup of tea or coffee ☕🍵.\n",
    "\n",
    "Once your binder is complete a Jupyter notebook will be launched."
   ]
  },
  {
   "cell_type": "markdown",
   "metadata": {},
   "source": [
    "\n",
    "JupyterLab is packaged with Binder repositories by default. In order to\n",
    "run a JupyterLab session, you have two options:\n",
    "\n",
    "## Start JupyterLab after you start your Binder\n",
    "\n",
    "Do the following:\n",
    "\n",
    "1. Launch a Binder instance (e.g., by clicking the Binder badge)\n",
    "2. Replace `tree` at the end of your URL with `lab`.\n",
    "3. That's it!\n",
    "\n",
    "## Create a Binder link that points to JupyterLab\n",
    "\n",
    "You can also create a Binder link that points to JupyterLab by adding the following\n",
    "to the end of your link:\n",
    "\n",
    "`?urlpath=lab`\n",
    "\n",
    "You can point to a specific file using JupterLab by including a file path\n",
    "beginning with `tree/` to the end of `urlpath`, like so:\n",
    "\n",
    "`?urlpath=lab/tree/path/to/my/notebook.ipynb`\n",
    "\n",
    "For example, the Binder badge above goes to the following URL:\n",
    "\n",
    "`http://mybinder.org/v2/gh/binder-examples/jupyterlab/master?urlpath=lab/tree/index.ipynb`\n",
    "\n",
    "Note: this repository also installs several JupyterLab extensions via a `postBuild` script, allowing\n",
    "you to use JupyterLab's extensions and widgets functionality.\n",
    "\n",
    "For a more complete demo of JupyterLab using Binder, see the\n",
    "[JupyterLab Demo](https://github.com/jupyterlab/jupyterlab-demo).\n",
    " "
   ]
  }
 ],
 "metadata": {
  "kernelspec": {
   "display_name": "Python 3",
   "language": "python",
   "name": "python3"
  },
  "language_info": {
   "codemirror_mode": {
    "name": "ipython",
    "version": 3
   },
   "file_extension": ".py",
   "mimetype": "text/x-python",
   "name": "python",
   "nbconvert_exporter": "python",
   "pygments_lexer": "ipython3",
   "version": "3.7.1"
  }
 },
 "nbformat": 4,
 "nbformat_minor": 2
}
