{
 "cells": [
  {
   "cell_type": "markdown",
   "metadata": {},
   "source": [
    "# 9. Property based testing and data integrity testing\n",
    "\n",
    "## Property based testing with Hypothesis\n",
    "\n",
    "So far all the tests we have written/write are done at a basic level in which you take 1 test and write test cases for which ti should pass or fail.  But what about edge cases? How do you know when you have actually found a bug and not an edge case for your model/algorithm or else?\n",
    "\n",
    "The [Hypothesis package](https://hypothesis.readthedocs.org/en/latest/) is very useful in these situtations as it performs property based testing. So instead of taking let's say 1 or 2 test cases for a single function hypothesis tests a whole range of parameters for each test case. \n",
    "\n",
    "Not clear? Ok imagine we do not know about the existence of the `modullo` operator so we have instead writen a function that tests divisibility by 11 based on the following property: \n",
    "> A number is divisible by 11 if and only if the alternating (in sign) sum of the number’s digits is 0\n",
    "\n",
    "Let's create a `main.py` script with our function:"
   ]
  },
  {
   "cell_type": "code",
   "execution_count": 1,
   "metadata": {},
   "outputs": [],
   "source": [
    "def divisible_by_11(number):\n",
    "    \"\"\"Uses above criterion to check if number is divisible by 11\"\"\"\n",
    "    string_number = str(number)\n",
    "    alternating_sum = sum([(-1) ** i * int(d) for i, d\n",
    "                           in enumerate(string_number)])\n",
    "    return alternating_sum == 0"
   ]
  },
  {
   "cell_type": "markdown",
   "metadata": {},
   "source": [
    "And we can demonstrate that this works by running some examples"
   ]
  },
  {
   "cell_type": "code",
   "execution_count": null,
   "metadata": {},
   "outputs": [],
   "source": [
    "for k in range(10):\n",
    "    print(divisible_by_11(11 * k))"
   ]
  },
  {
   "cell_type": "markdown",
   "metadata": {},
   "source": [
    "Now let's write a test case for the above example! And we are going to save this in `test_main.py`"
   ]
  },
  {
   "cell_type": "code",
   "execution_count": 21,
   "metadata": {},
   "outputs": [],
   "source": [
    "import pytest\n",
    "\n",
    "\n",
    "def test_divisible_by_11():\n",
    "    for k in range(10):\n",
    "        assert divisible_by_11(11*k)\n",
    "        assert divisible_by_11(121)\n",
    "        assert divisible_by_11(12122)"
   ]
  },
  {
   "cell_type": "code",
   "execution_count": 11,
   "metadata": {},
   "outputs": [],
   "source": [
    "test_divisible_by_11()"
   ]
  },
  {
   "cell_type": "markdown",
   "metadata": {},
   "source": [
    "The tests passed so no errors were raised at all. The above tests the first 10 numbers divisible by 11 and also some specific tests (121 and 12122).\n",
    "\n",
    "\n",
    "At this point we could be very happy and proud of ourselves: we have tested well written software that can be shipped and used by researchers world wide to test the divisibility of a number by 11.\n",
    "\n",
    "\n",
    "That is how mathematics breaks... so let's use hypothesis to demonstrate. Let's create a `test_property_main.py` script:"
   ]
  },
  {
   "cell_type": "code",
   "execution_count": 22,
   "metadata": {},
   "outputs": [],
   "source": [
    "from hypothesis import given  # define the inputs\n",
    "import hypothesis.strategies as st\n",
    "\n",
    "@given(k=st.integers(min_value=1)) # main decorator\n",
    "def test_divisible_by_11(k):\n",
    "    assert divisible_by_11(11*k)"
   ]
  },
  {
   "cell_type": "markdown",
   "metadata": {},
   "source": [
    "And we can run the test:\n",
    "```\n",
    "$  python -m pytest test_main.py\n",
    "============================= test session starts ================\n",
    "=============\n",
    "platform win32 -- Python 3.6.5, pytest-3.5.1, py-1.5.3, pluggy-0.6\n",
    ".0\n",
    "plugins: nbval-0.9.0, hypothesis-3.58.1\n",
    "collecting 0 items\n",
    "collecting 1 item\n",
    "collected 1 item\n",
    "\n",
    "\n",
    "test_property_main.py F\n",
    "       [100%]\n",
    "\n",
    "================================== FAILURES ======================\n",
    "=============\n",
    "____________________________ test_divisible_by_11 ________________\n",
    "_____________\n",
    "\n",
    "    @given(k=st.integers(min_value=1)) # main decorator\n",
    ">   def test_divisible_by_11(k):\n",
    "\n",
    "test_main.py:8:\n",
    "_ _ _ _ _ _ _ _ _ _ _ _ _ _ _ _ _ _ _ _ _ _ _ _ _ _ _ _ _ _ _ _ _\n",
    "\n",
    "...\n",
    "\n",
    "test_main.py:9: AssertionError\n",
    "--------------------------------- Hypothesis ---------------------\n",
    "-------------\n",
    "Falsifying example: test_divisible_by_11(k=28)\n",
    "========================== 1 failed in 0.60 seconds ==============\n",
    "=============\n",
    "\n",
    "\n",
    "```\n",
    "We get an error. Right at the top we get the `Falsifying example` so we see that our function fails for `k=28`.  The number resulting from $11x28$ is not divisible by 11 by construction. \n",
    "\n",
    "At this point we can think of the following correct definition for a number to be divisuble by 11:\n",
    "\n",
    "> A number is divisible by 11 if and only if the alternating (in sign) sum of the number’s digits is divisible by 11.\n",
    "\n",
    "So we can now modify `main.py` :"
   ]
  },
  {
   "cell_type": "code",
   "execution_count": 23,
   "metadata": {},
   "outputs": [],
   "source": [
    "def divisible_by_11(number):\n",
    "    \"\"\"Uses above criterion to check if number is divisible by 11\"\"\"\n",
    "    string_number = str(number)\n",
    "    # Using abs as the order of the alternating sum doesn't matter.\n",
    "    alternating_sum = abs(sum([(-1) ** i * int(d) for i, d\n",
    "                               in enumerate(string_number)]))\n",
    "    # Recursively calling the function\n",
    "    return (alternating_sum in [0, 11]) or divisible_by_11(alternating_sum)"
   ]
  },
  {
   "cell_type": "markdown",
   "metadata": {},
   "source": [
    "Running the tests:\n",
    "\n",
    "```\n",
    "$ python -m pytest test_property_main\n",
    ".\n",
    "----------------------------------------------------------------------\n",
    "Ran 1 test in 0.043s\n",
    "\n",
    "OK\n",
    "```"
   ]
  }
 ],
 "metadata": {
  "kernelspec": {
   "display_name": "Python 3",
   "language": "python",
   "name": "python3"
  },
  "language_info": {
   "codemirror_mode": {
    "name": "ipython",
    "version": 3
   },
   "file_extension": ".py",
   "mimetype": "text/x-python",
   "name": "python",
   "nbconvert_exporter": "python",
   "pygments_lexer": "ipython3",
   "version": "3.7.1"
  }
 },
 "nbformat": 4,
 "nbformat_minor": 2
}
